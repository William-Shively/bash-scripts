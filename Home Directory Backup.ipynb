{
 "cells": [
  {
   "cell_type": "code",
   "execution_count": null,
   "metadata": {},
   "outputs": [],
   "source": [
    "#!/bin/bash\n",
    "\n",
    "# This bash script is used to backup a user's home directory to /tmp/. \n",
    "\n",
    "user=$(whoami)\n",
    "input=/home/$user\n",
    "output=/tmp/${user}_home_$(date +%Y-%m-%d).tar.gz\n",
    "\n",
    "tar -czf $output $input 2> /dev/null\n",
    "echo \"Backup of $input completed! Details about the backup file:\"\n",
    "ls -l $output"
   ]
  }
 ],
 "metadata": {
  "language_info": {
   "name": "python"
  },
  "orig_nbformat": 4
 },
 "nbformat": 4,
 "nbformat_minor": 2
}
